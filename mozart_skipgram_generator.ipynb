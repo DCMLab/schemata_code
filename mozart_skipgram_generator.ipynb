{
 "cells": [
  {
   "cell_type": "markdown",
   "metadata": {},
   "source": [
    "# Skipgram Generation from Mozart Piano Sonatas\n",
    "\n",
    "Compute skipgrams over skipgrams\n",
    "\n",
    "## Setup\n",
    "\n",
    "Add worker processes (local and remote).\n",
    "The code must be in the same directory on all nodes, otherwise addprocs needs to be told where to start."
   ]
  },
  {
   "cell_type": "code",
   "execution_count": null,
   "metadata": {},
   "outputs": [],
   "source": [
    "# remotes go first, otherwise a two-way ssh connection is needed\n",
    "#addprocs([(\"remote-name-or-addr\", :auto)])\n",
    "\n",
    "addprocs(3) # leave one core free locally"
   ]
  },
  {
   "cell_type": "code",
   "execution_count": null,
   "metadata": {},
   "outputs": [],
   "source": [
    "# loading code on all workers\n",
    "\n",
    "# musicology library\n",
    "# Pkg.clone(\"https://github.com/DCMLab/DigitalMusicology.jl.git\")\n",
    "using DigitalMusicology\n",
    "\n",
    "# load the schema skipgrams code\n",
    "@everywhere include(\"skipgrams.jl\")"
   ]
  },
  {
   "cell_type": "code",
   "execution_count": null,
   "metadata": {},
   "outputs": [],
   "source": [
    "# set the corpus directory (must be the same on all nodes, otherwise don't use @everywhere)\n",
    "#@everywhere DigitalMusicology.usekern(\"/path/to/kern/dir\");\n",
    "@everywhere DigitalMusicology.usekern(\"/home/chfin/Uni/phd/data/csapp/mozart-piano-sonatas/\");"
   ]
  },
  {
   "cell_type": "markdown",
   "metadata": {},
   "source": [
    "In order to efficiently schedule the pieces to multiple processes, we sort them by their estimated complexity:"
   ]
  },
  {
   "cell_type": "code",
   "execution_count": null,
   "metadata": {
    "scrolled": false
   },
   "outputs": [],
   "source": [
    "# found experimentally, but needs to be only a very rough estimate\n",
    "function complexity(id)\n",
    "    notes = getpiece(id, :notes_wholes)\n",
    "    (id, length(notes)^2.0/(onset(notes[end])-onset(notes[1])))\n",
    "end\n",
    "sortedpieces = sort(map(complexity, allpieces()), by=x->x[2], rev=true)"
   ]
  },
  {
   "cell_type": "markdown",
   "metadata": {},
   "source": [
    "## Parameters\n",
    "\n",
    "For regenerating the skipgram counts for a set of parameters, change the variables below and then run then notebook from here!"
   ]
  },
  {
   "cell_type": "code",
   "execution_count": null,
   "metadata": {},
   "outputs": [],
   "source": [
    "# number of voices per stage\n",
    "voices = 3\n",
    "\n",
    "# number of stages\n",
    "stages = 2"
   ]
  },
  {
   "cell_type": "code",
   "execution_count": null,
   "metadata": {},
   "outputs": [],
   "source": [
    "# samplin in the first pass (groups of notes)\n",
    "# p1 = 1.0 # 2 voices\n",
    "p1 = 0.1 # 3 voices\n",
    "\n",
    "# sampling in the second pass (sequences of groups)\n",
    "p2 = 1.0 # 2x2, 3x2\n",
    "#p2 = 0.001 # 2x3, 3x3\n",
    "#p2 = 1.0e-6 # 2x4"
   ]
  },
  {
   "cell_type": "code",
   "execution_count": null,
   "metadata": {
    "scrolled": false
   },
   "outputs": [],
   "source": [
    "# list pieces with their respective bar lengths\n",
    "pieces = map(p -> (p, Unsims.piecebarlen(p)), map(first, sortedpieces))"
   ]
  },
  {
   "cell_type": "code",
   "execution_count": null,
   "metadata": {
    "scrolled": true
   },
   "outputs": [],
   "source": [
    "srand(111)"
   ]
  },
  {
   "cell_type": "markdown",
   "metadata": {},
   "source": [
    "## Enumerate Skipgrams"
   ]
  },
  {
   "cell_type": "code",
   "execution_count": null,
   "metadata": {
    "scrolled": true
   },
   "outputs": [],
   "source": [
    "@time counts = Unsims.countpiecesschemasbars(pieces, voices, stages, p2, p1) # yes, p2, p1!"
   ]
  },
  {
   "cell_type": "code",
   "execution_count": null,
   "metadata": {},
   "outputs": [],
   "source": [
    "# save computed skipgrams\n",
    "fn = \"counts_$(voices)x$(stages)_p1_$(p1)_p2_$(p2)_$(now()).jls\"\n",
    "open(f -> serialize(f, counts), joinpath(\"official_counts\", fn), \"w\")"
   ]
  },
  {
   "cell_type": "markdown",
   "metadata": {},
   "source": [
    "Execution times:\n",
    "\n",
    "| v | s | p1  | p2  | time |\n",
    "|---|---|-----|-----|------|\n",
    "| 2 | 2 | 1.0 | 1.0 | 796s |\n",
    "| 2 | 3 | 1.0 | 0.001 | 4930s |\n",
    "| 3 | 2 | 0.1 | 1.0 | 2300s |"
   ]
  },
  {
   "cell_type": "code",
   "execution_count": null,
   "metadata": {},
   "outputs": [],
   "source": [
    "counts = nothing"
   ]
  }
 ],
 "metadata": {
  "kernelspec": {
   "display_name": "Julia 0.6.2",
   "language": "julia",
   "name": "julia-0.6"
  },
  "language_info": {
   "file_extension": ".jl",
   "mimetype": "application/julia",
   "name": "julia",
   "version": "0.6.2"
  }
 },
 "nbformat": 4,
 "nbformat_minor": 2
}
