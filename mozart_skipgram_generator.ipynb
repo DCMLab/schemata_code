{
 "cells": [
  {
   "cell_type": "markdown",
   "metadata": {},
   "source": [
    "# Skipgram Analysis on Mozart Piano Sonatas\n",
    "\n",
    "Compute skipgrams over skipgrams\n",
    "\n",
    "## Setup\n",
    "\n",
    "Add worker processes (local and remote).\n",
    "The code must be in the same directory on all nodes, otherwise addprocs needs to be told where to start."
   ]
  },
  {
   "cell_type": "code",
   "execution_count": 1,
   "metadata": {},
   "outputs": [
    {
     "data": {
      "text/plain": [
       "3-element Array{Int64,1}:\n",
       " 6\n",
       " 7\n",
       " 8"
      ]
     },
     "execution_count": 1,
     "metadata": {},
     "output_type": "execute_result"
    }
   ],
   "source": [
    "# remotes go first, otherwise a two-way ssh connection is needed\n",
    "#addprocs([(\"remote-name-or-addr\", :auto)])\n",
    "addprocs([(\"128.179.134.225\", :auto)])\n",
    "\n",
    "addprocs(3) # leave one core free locally"
   ]
  },
  {
   "cell_type": "code",
   "execution_count": 2,
   "metadata": {},
   "outputs": [],
   "source": [
    "# loading code on all workers\n",
    "\n",
    "# musicology library\n",
    "# Pkg.clone(\"https://github.com/DCMLab/DigitalMusicology.jl.git\")\n",
    "using DigitalMusicology\n",
    "\n",
    "# load the schema skipgrams code\n",
    "@everywhere include(\"skipgrams.jl\")"
   ]
  },
  {
   "cell_type": "code",
   "execution_count": 3,
   "metadata": {},
   "outputs": [],
   "source": [
    "# set the corpus directory (must be the same on all nodes, otherwise don't use @everywhere)\n",
    "#@everywhere DigitalMusicology.usekern(\"/path/to/kern/dir\");\n",
    "@everywhere DigitalMusicology.usekern(\"/home/chfin/Uni/phd/data/csapp/mozart-piano-sonatas/\");"
   ]
  },
  {
   "cell_type": "markdown",
   "metadata": {},
   "source": [
    "## Parameters"
   ]
  },
  {
   "cell_type": "code",
   "execution_count": 10,
   "metadata": {},
   "outputs": [
    {
     "data": {
      "text/plain": [
       "2"
      ]
     },
     "execution_count": 10,
     "metadata": {},
     "output_type": "execute_result"
    }
   ],
   "source": [
    "# number of voices per stage\n",
    "voices = 2\n",
    "\n",
    "# number of stages\n",
    "stages = 3"
   ]
  },
  {
   "cell_type": "code",
   "execution_count": 7,
   "metadata": {},
   "outputs": [
    {
     "data": {
      "text/plain": [
       "1.0"
      ]
     },
     "execution_count": 7,
     "metadata": {},
     "output_type": "execute_result"
    }
   ],
   "source": [
    "# samplin in the first pass (groups of notes)\n",
    "p1 = 1.0\n",
    "# p1 = 0.1 # 3x4 only!!!\n",
    "\n",
    "# sampling in the second pass (sequences of groups)\n",
    "p2 = 1.0 # 2x2"
   ]
  },
  {
   "cell_type": "code",
   "execution_count": 5,
   "metadata": {},
   "outputs": [
    {
     "data": {
      "text/plain": [
       "69-element Array{Tuple{String,Rational{Int64}},1}:\n",
       " (\"sonata01-1\", 1//1)\n",
       " (\"sonata01-2\", 3//4)\n",
       " (\"sonata01-3\", 1//2)\n",
       " (\"sonata02-1\", 3//4)\n",
       " (\"sonata02-2\", 3//4)\n",
       " (\"sonata02-3\", 3//8)\n",
       " (\"sonata03-1\", 1//2)\n",
       " (\"sonata03-2\", 3//8)\n",
       " (\"sonata03-3\", 1//1)\n",
       " (\"sonata04-1\", 1//1)\n",
       " (\"sonata04-2\", 3//4)\n",
       " (\"sonata04-3\", 1//2)\n",
       " (\"sonata05-1\", 3//4)\n",
       " ⋮                   \n",
       " (\"sonata14-1\", 1//1)\n",
       " (\"sonata14-2\", 1//1)\n",
       " (\"sonata14-3\", 3//4)\n",
       " (\"sonata15-1\", 1//1)\n",
       " (\"sonata15-2\", 3//4)\n",
       " (\"sonata15-3\", 1//2)\n",
       " (\"sonata16-1\", 3//4)\n",
       " (\"sonata16-2\", 1//1)\n",
       " (\"sonata16-3\", 1//1)\n",
       " (\"sonata17-1\", 3//4)\n",
       " (\"sonata17-2\", 3//4)\n",
       " (\"sonata17-3\", 1//2)"
      ]
     },
     "execution_count": 5,
     "metadata": {},
     "output_type": "execute_result"
    }
   ],
   "source": [
    "# list pieces with their respective bar lengths\n",
    "pieces = map(p -> (p, Unsims.piecebarlen(p)), allpieces())"
   ]
  },
  {
   "cell_type": "code",
   "execution_count": 8,
   "metadata": {},
   "outputs": [
    {
     "data": {
      "text/plain": [
       "MersenneTwister(UInt32[0x0000006f], Base.dSFMT.DSFMT_state(Int32[-1742434217, 1072888606, -1808167675, 1073264677, -816900598, 1073279215, -1688324199, 1073349469, 966630521, 1072721743  …  -182202980, 1073352782, -336987111, 1073634920, 293846579, -2027139531, -1236354088, -20277153, 382, 0]), [1.74216, 1.88128, 1.19347, 1.1648, 1.92639, 1.24087, 1.55934, 1.33381, 1.3449, 1.76115  …  1.41883, 1.16047, 1.28335, 1.06074, 1.43403, 1.31577, 1.38478, 1.06707, 1.52229, 1.25502], 382)"
      ]
     },
     "execution_count": 8,
     "metadata": {},
     "output_type": "execute_result"
    }
   ],
   "source": [
    "srand(111)"
   ]
  },
  {
   "cell_type": "markdown",
   "metadata": {},
   "source": [
    "## Enumerate Skipgrams"
   ]
  },
  {
   "cell_type": "code",
   "execution_count": 11,
   "metadata": {},
   "outputs": [
    {
     "name": "stdout",
     "output_type": "stream",
     "text": [
      "\tFrom worker 8:\tprocessing sonata03-1\n",
      "\tFrom worker 7:\tprocessing sonata02-3\n",
      "\tFrom worker 6:\tprocessing sonata02-2\n",
      "\tFrom worker 2:\tprocessing sonata01-1\n",
      "\tFrom worker 7:\tdone with  sonata02-3\n",
      "\tFrom worker 7:\tprocessing sonata03-2\n",
      "\tFrom worker 7:\tdone with  sonata03-2\n",
      "\tFrom worker 7:\tprocessing sonata04-1\n",
      "\tFrom worker 6:\tdone with  sonata02-2\n",
      "\tFrom worker 6:\tprocessing sonata04-2\n",
      "\tFrom worker 6:\tdone with  sonata04-2\n",
      "\tFrom worker 6:\tprocessing sonata04-3\n",
      "\tFrom worker 6:\tdone with  sonata04-3\n",
      "\tFrom worker 6:\tprocessing sonata05-1\n",
      "\tFrom worker 6:\tdone with  sonata05-1\n",
      "\tFrom worker 6:\tprocessing sonata06-1\n",
      "\tFrom worker 8:\tdone with  sonata03-1\n",
      "\tFrom worker 8:\tprocessing sonata06-3e\n",
      "\tFrom worker 8:\tdone with  sonata06-3e\n",
      "\tFrom worker 8:\tprocessing sonata06-3f\n",
      "\tFrom worker 8:\tdone with  sonata06-3f\n",
      "\tFrom worker 8:\tprocessing sonata06-3h\n",
      "\tFrom worker 8:\tdone with  sonata06-3h\n",
      "\tFrom worker 8:\tprocessing sonata06-3j\n",
      "\tFrom worker 8:\tdone with  sonata06-3j\n",
      "\tFrom worker 8:\tprocessing sonata06-3m\n",
      "\tFrom worker 2:\tdone with  sonata01-1\n",
      "\tFrom worker 5:\tprocessing sonata01-2\n",
      "\tFrom worker 5:\tdone with  sonata01-2\n",
      "\tFrom worker 5:\tprocessing sonata06-2\n",
      "\tFrom worker 5:\tdone with  sonata06-2\n",
      "\tFrom worker 5:\tprocessing sonata06-3l\n",
      "\tFrom worker 4:\tprocessing sonata01-3\n",
      "\tFrom worker 4:\tdone with  sonata01-3\n",
      "\tFrom worker 4:\tprocessing sonata03-3\n",
      "\tFrom worker 4:\tdone with  sonata03-3\n",
      "\tFrom worker 4:\tprocessing sonata05-3\n",
      "\tFrom worker 4:\tdone with  sonata05-3\n",
      "\tFrom worker 4:\tprocessing sonata06-3a\n",
      "\tFrom worker 4:\tdone with  sonata06-3a\n",
      "\tFrom worker 4:\tprocessing sonata06-3b\n",
      "\tFrom worker 4:\tdone with  sonata06-3b\n",
      "\tFrom worker 4:\tprocessing sonata06-3c\n",
      "\tFrom worker 4:\tdone with  sonata06-3c\n",
      "\tFrom worker 4:\tprocessing sonata06-3d\n",
      "\tFrom worker 4:\tdone with  sonata06-3d\n",
      "\tFrom worker 4:\tprocessing sonata06-3g\n",
      "\tFrom worker 4:\tdone with  sonata06-3g\n",
      "\tFrom worker 4:\tprocessing sonata06-3i\n",
      "\tFrom worker 4:\tdone with  sonata06-3i\n",
      "\tFrom worker 4:\tprocessing sonata06-3k\n",
      "\tFrom worker 3:\tprocessing sonata02-1\n",
      "\tFrom worker 3:\tdone with  sonata02-1\n",
      "\tFrom worker 3:\tprocessing sonata05-2\n",
      "\tFrom worker 2:\tprocessing sonata07-1\n",
      "\tFrom worker 8:\tdone with  sonata06-3m\n",
      "\tFrom worker 8:\tprocessing sonata07-2\n",
      "\tFrom worker 6:\tdone with  sonata06-1\n",
      "\tFrom worker 6:\tprocessing sonata08-1\n",
      "\tFrom worker 7:\tdone with  sonata04-1\n",
      "\tFrom worker 7:\tprocessing sonata08-3\n",
      "\tFrom worker 7:\tdone with  sonata08-3\n",
      "\tFrom worker 7:\tprocessing sonata09-1\n",
      "\tFrom worker 8:\tdone with  sonata07-2\n",
      "\tFrom worker 8:\tprocessing sonata09-2\n",
      "\tFrom worker 8:\tdone with  sonata09-2\n",
      "\tFrom worker 8:\tprocessing sonata10-1\n",
      "\tFrom worker 2:\tdone with  sonata07-1\n",
      "\tFrom worker 4:\tdone with  sonata06-3k\n",
      "\tFrom worker 4:\tprocessing sonata07-3\n",
      "\tFrom worker 3:\tdone with  sonata05-2\n",
      "\tFrom worker 3:\tprocessing sonata08-2\n",
      "\tFrom worker 5:\tdone with  sonata06-3l\n",
      "\tFrom worker 5:\tprocessing sonata09-3\n",
      "\tFrom worker 2:\tprocessing sonata10-2\n",
      "\tFrom worker 2:\tdone with  sonata10-2\n",
      "\tFrom worker 4:\tdone with  sonata07-3\n",
      "\tFrom worker 4:\tprocessing sonata10-3\n",
      "\tFrom worker 2:\tprocessing sonata11-1a\n",
      "\tFrom worker 2:\tdone with  sonata11-1a\n",
      "\tFrom worker 2:\tprocessing sonata11-1b\n",
      "\tFrom worker 2:\tdone with  sonata11-1b\n",
      "\tFrom worker 2:\tprocessing sonata11-1c\n",
      "\tFrom worker 8:\tdone with  sonata10-1\n",
      "\tFrom worker 8:\tprocessing sonata11-1e\n",
      "\tFrom worker 7:\tdone with  sonata09-1\n",
      "\tFrom worker 7:\tprocessing sonata11-1g\n",
      "\tFrom worker 2:\tdone with  sonata11-1c\n",
      "\tFrom worker 4:\tdone with  sonata10-3\n",
      "\tFrom worker 4:\tprocessing sonata11-1d\n",
      "\tFrom worker 5:\tdone with  sonata09-3\n",
      "\tFrom worker 5:\tprocessing sonata11-1f\n",
      "\tFrom worker 2:\tprocessing sonata11-2\n",
      "\tFrom worker 8:\tdone with  sonata11-1e\n",
      "\tFrom worker 8:\tprocessing sonata11-3\n",
      "\tFrom worker 2:\tdone with  sonata11-2\n",
      "\tFrom worker 2:\tprocessing sonata12-1\n",
      "\tFrom worker 7:\tdone with  sonata11-1g\n",
      "\tFrom worker 7:\tprocessing sonata12-3\n",
      "\tFrom worker 6:\tdone with  sonata08-1\n",
      "\tFrom worker 6:\tprocessing sonata13-1\n",
      "\tFrom worker 8:\tdone with  sonata11-3\n",
      "\tFrom worker 8:\tprocessing sonata13-2\n",
      "\tFrom worker 2:\tdone with  sonata12-1\n",
      "\tFrom worker 4:\tdone with  sonata11-1d\n",
      "\tFrom worker 4:\tprocessing sonata12-2\n",
      "\tFrom worker 2:\tprocessing sonata13-3\n",
      "\tFrom worker 7:\tdone with  sonata12-3\n",
      "\tFrom worker 7:\tprocessing sonata14-1\n",
      "\tFrom worker 7:\tdone with  sonata14-1\n",
      "\tFrom worker 7:\tprocessing sonata14-2\n",
      "\tFrom worker 8:\tdone with  sonata13-2\n",
      "\tFrom worker 8:\tprocessing sonata14-3\n",
      "\tFrom worker 8:\tdone with  sonata14-3\n",
      "\tFrom worker 8:\tprocessing sonata15-1\n",
      "\tFrom worker 2:\tdone with  sonata13-3\n",
      "\tFrom worker 5:\tdone with  sonata11-1f\n",
      "\tFrom worker 5:\tprocessing sonata15-2\n",
      "\tFrom worker 2:\tprocessing sonata15-3\n",
      "\tFrom worker 2:\tdone with  sonata15-3\n",
      "\tFrom worker 3:\tdone with  sonata08-2\n",
      "\tFrom worker 3:\tprocessing sonata16-1\n",
      "\tFrom worker 2:\tprocessing sonata16-2\n",
      "\tFrom worker 6:\tdone with  sonata13-1\n",
      "\tFrom worker 6:\tprocessing sonata16-3\n",
      "\tFrom worker 8:\tdone with  sonata15-1\n",
      "\tFrom worker 8:\tprocessing sonata17-2\n",
      "\tFrom worker 6:\tdone with  sonata16-3\n",
      "\tFrom worker 6:\tprocessing sonata17-3\n",
      "\tFrom worker 6:\tdone with  sonata17-3\n",
      "\tFrom worker 2:\tdone with  sonata16-2\n",
      "\tFrom worker 3:\tdone with  sonata16-1\n",
      "\tFrom worker 3:\tprocessing sonata17-1\n",
      "\tFrom worker 3:\tdone with  sonata17-1\n",
      "\tFrom worker 5:\tdone with  sonata15-2\n",
      "\tFrom worker 4:\tdone with  sonata12-2\n",
      "\tFrom worker 8:\tdone with  sonata17-2\n",
      "\tFrom worker 7:\tdone with  sonata14-2\n",
      "796.042188 seconds (3.23 M allocations: 109.216 MiB, 0.01% gc time)\n"
     ]
    },
    {
     "data": {
      "text/plain": [
       "Trie{Array{DigitalMusicology.Pitches.MidiPitch,1},Float64}(...)"
      ]
     },
     "execution_count": 11,
     "metadata": {},
     "output_type": "execute_result"
    }
   ],
   "source": [
    "@time counts = Unsims.countpiecesschemasbars(pieces, voices, stages, p2, p1) # yes, p2, p1!"
   ]
  },
  {
   "cell_type": "code",
   "execution_count": 16,
   "metadata": {},
   "outputs": [],
   "source": [
    "# save computed skipgrams\n",
    "fn = \"counts_$(voices)x$(stages)_p1_$(p1)_p2_$(p2)_$(now()).jls\"\n",
    "open(f -> serialize(f, counts), joinpath(\"official_counts\", fn), \"w\")"
   ]
  },
  {
   "cell_type": "markdown",
   "metadata": {},
   "source": [
    "Execution times:\n",
    "\n",
    "| n | s | p1  | p2  | time |\n",
    "|---|---|-----|-----|------|\n",
    "| 2 | 2 | 1.0 | 1.0 | 796s |"
   ]
  },
  {
   "cell_type": "code",
   "execution_count": null,
   "metadata": {},
   "outputs": [],
   "source": []
  }
 ],
 "metadata": {
  "kernelspec": {
   "display_name": "Julia 0.6.2",
   "language": "julia",
   "name": "julia-0.6"
  },
  "language_info": {
   "file_extension": ".jl",
   "mimetype": "application/julia",
   "name": "julia",
   "version": "0.6.2"
  }
 },
 "nbformat": 4,
 "nbformat_minor": 2
}
