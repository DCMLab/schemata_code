{
 "cells": [
  {
   "cell_type": "markdown",
   "metadata": {},
   "source": [
    "# Skipgrams over Skipgrams\n",
    "\n",
    "## Setup"
   ]
  },
  {
   "cell_type": "code",
   "execution_count": 1,
   "metadata": {},
   "outputs": [],
   "source": [
    "# addprocs([(\"chfin-tp\", :auto)])\n",
    "# addprocs()"
   ]
  },
  {
   "cell_type": "code",
   "execution_count": 2,
   "metadata": {},
   "outputs": [],
   "source": [
    "using DigitalMusicology"
   ]
  },
  {
   "cell_type": "code",
   "execution_count": 3,
   "metadata": {},
   "outputs": [],
   "source": [
    "@everywhere DigitalMusicology.usekern(\"/home/chfin/Uni/phd/data/csapp/mozart-piano-sonatas/\");"
   ]
  },
  {
   "cell_type": "code",
   "execution_count": 4,
   "metadata": {},
   "outputs": [],
   "source": [
    "# contains the \"skipgrams over skipgrams\" code\n",
    "@everywhere include(\"skipgrams.jl\");\n",
    "using Unsims"
   ]
  },
  {
   "cell_type": "markdown",
   "metadata": {},
   "source": [
    "## Analyzing a piece"
   ]
  },
  {
   "cell_type": "code",
   "execution_count": 5,
   "metadata": {},
   "outputs": [],
   "source": [
    "prinnerpiece = \"sonata03-2\"\n",
    "notes = getpiece(prinnerpiece, :notes_secs);"
   ]
  },
  {
   "cell_type": "markdown",
   "metadata": {},
   "source": [
    "The notes are grouped to non-simultaneous note groups (\"unsims\")"
   ]
  },
  {
   "cell_type": "code",
   "execution_count": 6,
   "metadata": {},
   "outputs": [],
   "source": [
    "mozunsims = unsims(notes, 1.0, 2, 1.0);"
   ]
  },
  {
   "cell_type": "markdown",
   "metadata": {},
   "source": [
    "Unsims are again grouped to skipgrams.\n",
    "Output skipgrams are sampled with `p = 0.00001`."
   ]
  },
  {
   "cell_type": "code",
   "execution_count": 7,
   "metadata": {},
   "outputs": [],
   "source": [
    "sgs = unsimskipgrams(mozunsims, 1.0, 4, 0.00001);"
   ]
  },
  {
   "cell_type": "markdown",
   "metadata": {},
   "source": [
    "The resulting SG^2s are reduced to their pitch content (notes -> pitches),\n",
    "each group is sorted by ascending pitch,\n",
    "pitches are trasposed relative to the first pitch in the first group (reference pitch)\n",
    "and converted to pitch classes (`schemacandify`).\n",
    "This allows to reproduce, which pc appeared in which voice, relative to the reference note.\n",
    "\n",
    "The resulting \"schema candidates\" are counted (with equal weights for now):"
   ]
  },
  {
   "cell_type": "code",
   "execution_count": 8,
   "metadata": {},
   "outputs": [],
   "source": [
    "counts = countmapby(sgs, schemacandify);"
   ]
  },
  {
   "cell_type": "markdown",
   "metadata": {},
   "source": [
    "The counted schema candidates are ranked by their counts."
   ]
  },
  {
   "cell_type": "code",
   "execution_count": 9,
   "metadata": {},
   "outputs": [
    {
     "name": "stdout",
     "output_type": "stream",
     "text": [
      "4.0: [0, 3] -> [11, 10] -> [5, 0] -> [7, 8]\n",
      "4.0: [0, 3] -> [10, 3] -> [4, 5] -> [0, 0]\n",
      "3.0: [0, 1] -> [1, 5] -> [8, 5] -> [8, 1]\n",
      "3.0: [0, 1] -> [3, 5] -> [10, 3] -> [8, 10]\n",
      "3.0: [0, 8] -> [0, 0] -> [1, 5] -> [3, 8]\n",
      "3.0: [0, 8] -> [1, 5] -> [3, 0] -> [8, 7]\n",
      "3.0: [0, 8] -> [0, 8] -> [8, 8] -> [1, 8]\n",
      "3.0: [0, 8] -> [1, 7] -> [0, 5] -> [3, 10]\n",
      "3.0: [0, 8] -> [10, 6] -> [10, 3] -> [0, 5]\n",
      "3.0: [0, 3] -> [0, 1] -> [0, 0] -> [3, 8]\n",
      "3.0: [0, 3] -> [10, 5] -> [3, 3] -> [7, 10]\n",
      "3.0: [0, 3] -> [3, 8] -> [10, 3] -> [3, 10]\n",
      "3.0: [0, 3] -> [2, 2] -> [3, 10] -> [3, 3]\n",
      "3.0: [0, 3] -> [1, 7] -> [3, 5] -> [3, 7]\n",
      "3.0: [0, 3] -> [1, 7] -> [5, 0] -> [3, 8]\n",
      "3.0: [0, 3] -> [6, 8] -> [11, 11] -> [3, 11]\n",
      "3.0: [0, 6] -> [8, 1] -> [8, 10] -> [5, 1]\n",
      "3.0: [0, 6] -> [6, 10] -> [8, 10] -> [6, 10]\n",
      "3.0: [0, 6] -> [3, 7] -> [10, 1] -> [0, 3]\n",
      "3.0: [0, 5] -> [9, 5] -> [9, 0] -> [5, 5]\n",
      "3.0: [0, 5] -> [4, 0] -> [7, 4] -> [0, 11]\n",
      "3.0: [0, 5] -> [5, 10] -> [5, 0] -> [0, 5]\n",
      "3.0: [0, 5] -> [10, 10] -> [5, 9] -> [5, 9]\n",
      "3.0: [0, 10] -> [2, 10] -> [0, 3] -> [10, 10]\n",
      "3.0: [0, 10] -> [8, 1] -> [1, 6] -> [10, 1]\n",
      "3.0: [0, 10] -> [9, 4] -> [4, 2] -> [8, 9]\n",
      "3.0: [0, 10] -> [1, 6] -> [6, 10] -> [10, 10]\n",
      "3.0: [0, 10] -> [4, 10] -> [9, 0] -> [7, 4]\n",
      "3.0: [0, 10] -> [5, 5] -> [7, 5] -> [5, 5]\n",
      "3.0: [0, 9] -> [10, 0] -> [5, 5] -> [0, 5]\n",
      "3.0: [0, 9] -> [9, 3] -> [7, 5] -> [0, 9]\n",
      "3.0: [0, 0] -> [2, 5] -> [0, 0] -> [4, 0]\n",
      "3.0: [0, 0] -> [2, 4] -> [7, 9] -> [0, 0]\n",
      "3.0: [0, 0] -> [0, 2] -> [4, 4] -> [0, 0]\n",
      "3.0: [0, 0] -> [5, 7] -> [5, 9] -> [7, 0]\n",
      "3.0: [0, 0] -> [5, 7] -> [5, 9] -> [0, 11]\n",
      "3.0: [0, 0] -> [5, 7] -> [5, 0] -> [5, 4]\n",
      "3.0: [0, 0] -> [5, 7] -> [0, 9] -> [5, 5]\n",
      "3.0: [0, 4] -> [9, 0] -> [7, 6] -> [7, 11]\n",
      "3.0: [0, 4] -> [9, 0] -> [0, 4] -> [2, 2]\n",
      "3.0: [0, 4] -> [9, 7] -> [2, 6] -> [7, 11]\n",
      "3.0: [0, 4] -> [2, 9] -> [9, 0] -> [4, 4]\n",
      "3.0: [0, 4] -> [4, 5] -> [4, 5] -> [0, 11]\n",
      "3.0: [0, 4] -> [5, 7] -> [4, 5] -> [0, 7]\n",
      "3.0: [0, 4] -> [4, 7] -> [2, 7] -> [11, 9]\n",
      "3.0: [0, 4] -> [5, 5] -> [10, 7] -> [0, 5]\n",
      "3.0: [0, 4] -> [0, 7] -> [7, 9] -> [0, 7]\n",
      "3.0: [0, 7] -> [10, 5] -> [2, 0] -> [0, 5]\n",
      "3.0: [0, 7] -> [7, 10] -> [9, 10] -> [2, 5]\n",
      "3.0: [0, 7] -> [7, 8] -> [3, 7] -> [3, 7]\n",
      "3.0: [0, 7] -> [2, 2] -> [5, 7] -> [0, 2]\n",
      "3.0: [0, 7] -> [9, 3] -> [11, 2] -> [0, 9]\n",
      "3.0: [0, 7] -> [7, 0] -> [3, 3] -> [3, 7]\n",
      "3.0: [0, 11] -> [9, 4] -> [11, 10] -> [9, 0]\n",
      "3.0: [0, 11] -> [9, 10] -> [0, 3] -> [2, 10]\n",
      "3.0: [0, 2] -> [4, 4] -> [7, 2] -> [5, 9]\n",
      "3.0: [0, 2] -> [9, 0] -> [10, 5] -> [0, 2]\n",
      "3.0: [0, 2] -> [4, 10] -> [7, 9] -> [7, 0]\n",
      "2.0: [0, 1] -> [8, 0] -> [10, 3] -> [3, 8]\n",
      "2.0: [0, 1] -> [10, 7] -> [8, 5] -> [3, 7]\n",
      "2.0: [0, 1] -> [10, 7] -> [7, 7] -> [7, 7]\n",
      "2.0: [0, 1] -> [0, 10] -> [1, 4] -> [3, 10]\n",
      "2.0: [0, 1] -> [9, 0] -> [7, 4] -> [4, 2]\n",
      "2.0: [0, 1] -> [10, 1] -> [0, 0] -> [5, 10]\n",
      "2.0: [0, 1] -> [10, 1] -> [10, 0] -> [0, 3]\n",
      "2.0: [0, 1] -> [0, 0] -> [3, 10] -> [8, 8]\n",
      "2.0: [0, 1] -> [10, 5] -> [8, 10] -> [1, 5]\n",
      "2.0: [0, 1] -> [3, 8] -> [1, 7] -> [8, 10]\n",
      "2.0: [0, 1] -> [1, 3] -> [0, 3] -> [8, 8]\n",
      "2.0: [0, 1] -> [3, 5] -> [3, 0] -> [5, 1]\n",
      "2.0: [0, 1] -> [5, 2] -> [10, 11] -> [1, 8]\n",
      "2.0: [0, 1] -> [9, 1] -> [9, 2] -> [9, 1]\n",
      "2.0: [0, 1] -> [3, 6] -> [5, 3] -> [6, 8]\n",
      "2.0: [0, 1] -> [3, 6] -> [6, 1] -> [0, 6]\n",
      "2.0: [0, 1] -> [8, 10] -> [5, 6] -> [1, 1]\n",
      "2.0: [0, 1] -> [8, 10] -> [7, 3] -> [8, 8]\n",
      "2.0: [0, 1] -> [3, 9] -> [3, 5] -> [8, 0]\n",
      "2.0: [0, 1] -> [10, 0] -> [8, 0] -> [3, 8]\n",
      "2.0: [0, 1] -> [10, 0] -> [1, 3] -> [10, 1]\n",
      "2.0: [0, 1] -> [11, 5] -> [8, 0] -> [0, 3]\n",
      "2.0: [0, 1] -> [1, 8] -> [5, 1] -> [6, 8]\n",
      "2.0: [0, 1] -> [1, 8] -> [3, 4] -> [1, 6]\n",
      "2.0: [0, 1] -> [8, 7] -> [0, 3] -> [8, 0]\n",
      "2.0: [0, 1] -> [2, 10] -> [4, 5] -> [8, 5]\n",
      "2.0: [0, 1] -> [0, 8] -> [7, 10] -> [10, 0]\n",
      "2.0: [0, 1] -> [0, 8] -> [5, 8] -> [3, 0]\n",
      "2.0: [0, 1] -> [0, 8] -> [3, 3] -> [8, 0]\n",
      "2.0: [0, 1] -> [8, 1] -> [1, 1] -> [10, 1]\n",
      "2.0: [0, 1] -> [1, 7] -> [7, 0] -> [8, 1]\n",
      "2.0: [0, 1] -> [5, 3] -> [10, 10] -> [5, 5]\n",
      "2.0: [0, 1] -> [5, 3] -> [8, 1] -> [6, 1]\n",
      "2.0: [0, 1] -> [5, 3] -> [1, 5] -> [0, 3]\n",
      "2.0: [0, 1] -> [11, 10] -> [7, 1] -> [5, 6]\n",
      "2.0: [0, 1] -> [5, 8] -> [5, 3] -> [10, 1]\n",
      "2.0: [0, 1] -> [5, 10] -> [10, 11] -> [5, 8]\n",
      "2.0: [0, 1] -> [5, 0] -> [7, 10] -> [8, 8]\n",
      "2.0: [0, 1] -> [5, 0] -> [7, 10] -> [0, 8]\n",
      "2.0: [0, 1] -> [5, 0] -> [0, 0] -> [3, 8]\n",
      "2.0: [0, 1] -> [10, 11] -> [1, 3] -> [1, 10]\n",
      "2.0: [0, 1] -> [7, 7] -> [1, 6] -> [4, 1]\n"
     ]
    }
   ],
   "source": [
    "ranks = rankcounts(counts)\n",
    "topranks(ranks, 100);"
   ]
  },
  {
   "cell_type": "markdown",
   "metadata": {},
   "source": [
    "As the schema candidates are dominated by artifacts (trills?), it is necessary to filter out the problematic cases."
   ]
  },
  {
   "cell_type": "code",
   "execution_count": 10,
   "metadata": {},
   "outputs": [
    {
     "name": "stdout",
     "output_type": "stream",
     "text": [
      "4.0: [0, 3] -> [11, 10] -> [5, 0] -> [7, 8]\n",
      "4.0: [0, 3] -> [10, 3] -> [4, 5] -> [0, 0]\n",
      "3.0: [0, 1] -> [1, 5] -> [8, 5] -> [8, 1]\n",
      "3.0: [0, 1] -> [3, 5] -> [10, 3] -> [8, 10]\n",
      "3.0: [0, 8] -> [0, 0] -> [1, 5] -> [3, 8]\n",
      "3.0: [0, 8] -> [1, 5] -> [3, 0] -> [8, 7]\n",
      "3.0: [0, 8] -> [0, 8] -> [8, 8] -> [1, 8]\n",
      "3.0: [0, 8] -> [1, 7] -> [0, 5] -> [3, 10]\n",
      "3.0: [0, 8] -> [10, 6] -> [10, 3] -> [0, 5]\n",
      "3.0: [0, 3] -> [0, 1] -> [0, 0] -> [3, 8]\n",
      "3.0: [0, 3] -> [10, 5] -> [3, 3] -> [7, 10]\n",
      "3.0: [0, 3] -> [3, 8] -> [10, 3] -> [3, 10]\n",
      "3.0: [0, 3] -> [2, 2] -> [3, 10] -> [3, 3]\n",
      "3.0: [0, 3] -> [1, 7] -> [3, 5] -> [3, 7]\n",
      "3.0: [0, 3] -> [1, 7] -> [5, 0] -> [3, 8]\n",
      "3.0: [0, 3] -> [6, 8] -> [11, 11] -> [3, 11]\n",
      "3.0: [0, 6] -> [8, 1] -> [8, 10] -> [5, 1]\n",
      "3.0: [0, 6] -> [6, 10] -> [8, 10] -> [6, 10]\n",
      "3.0: [0, 6] -> [3, 7] -> [10, 1] -> [0, 3]\n",
      "3.0: [0, 5] -> [9, 5] -> [9, 0] -> [5, 5]\n"
     ]
    }
   ],
   "source": [
    "# trill\n",
    "istrill(cand) =\n",
    "    all(stage -> all(p -> p==midi(2) || p==midi(0), stage), cand) ||\n",
    "    all(stage -> all(p -> p==midi(10) || p==midi(0), stage), cand)\n",
    "\n",
    "notrills = filter(r -> !istrill(r[1]), ranks)\n",
    "topranks(notrills, 20)"
   ]
  },
  {
   "cell_type": "code",
   "execution_count": 11,
   "metadata": {},
   "outputs": [
    {
     "name": "stdout",
     "output_type": "stream",
     "text": [
      "4.0: [0, 3] -> [11, 10] -> [5, 0] -> [7, 8]\n",
      "4.0: [0, 3] -> [10, 3] -> [4, 5] -> [0, 0]\n",
      "3.0: [0, 1] -> [1, 5] -> [8, 5] -> [8, 1]\n",
      "3.0: [0, 1] -> [3, 5] -> [10, 3] -> [8, 10]\n",
      "3.0: [0, 8] -> [0, 0] -> [1, 5] -> [3, 8]\n",
      "3.0: [0, 8] -> [1, 5] -> [3, 0] -> [8, 7]\n",
      "3.0: [0, 8] -> [0, 8] -> [8, 8] -> [1, 8]\n",
      "3.0: [0, 8] -> [1, 7] -> [0, 5] -> [3, 10]\n",
      "3.0: [0, 8] -> [10, 6] -> [10, 3] -> [0, 5]\n",
      "3.0: [0, 3] -> [0, 1] -> [0, 0] -> [3, 8]\n",
      "3.0: [0, 3] -> [10, 5] -> [3, 3] -> [7, 10]\n",
      "3.0: [0, 3] -> [3, 8] -> [10, 3] -> [3, 10]\n",
      "3.0: [0, 3] -> [2, 2] -> [3, 10] -> [3, 3]\n",
      "3.0: [0, 3] -> [1, 7] -> [3, 5] -> [3, 7]\n",
      "3.0: [0, 3] -> [1, 7] -> [5, 0] -> [3, 8]\n",
      "3.0: [0, 3] -> [6, 8] -> [11, 11] -> [3, 11]\n",
      "3.0: [0, 6] -> [8, 1] -> [8, 10] -> [5, 1]\n",
      "3.0: [0, 6] -> [6, 10] -> [8, 10] -> [6, 10]\n",
      "3.0: [0, 6] -> [3, 7] -> [10, 1] -> [0, 3]\n",
      "3.0: [0, 5] -> [9, 5] -> [9, 0] -> [5, 5]\n"
     ]
    }
   ],
   "source": [
    "# trill part\n",
    "istrillpart(cand) =\n",
    "    any(midis(0:11)) do trans\n",
    "        count(stage -> all(p -> pc(p+trans) ∈ [midi(0), midi(2)], stage), cand) > 1\n",
    "    end\n",
    "\n",
    "notrillparts = filter(r -> !istrillpart(r[1]), notrills)\n",
    "topranks(notrillparts, 20)"
   ]
  },
  {
   "cell_type": "code",
   "execution_count": 12,
   "metadata": {},
   "outputs": [
    {
     "ename": "LoadError",
     "evalue": "\u001b[91mUndefVarError: findfirstusg not defined\u001b[39m",
     "output_type": "error",
     "traceback": [
      "\u001b[91mUndefVarError: findfirstusg not defined\u001b[39m",
      ""
     ]
    }
   ],
   "source": [
    "fst = findfirstusg(mozunsims, map(midis, [[0,4], [0,4], [0,5], [0,0]]), 1.0, 4, 1)"
   ]
  },
  {
   "cell_type": "code",
   "execution_count": 13,
   "metadata": {},
   "outputs": [
    {
     "ename": "LoadError",
     "evalue": "\u001b[91mUndefVarError: fst not defined\u001b[39m",
     "output_type": "error",
     "traceback": [
      "\u001b[91mUndefVarError: fst not defined\u001b[39m",
      ""
     ]
    }
   ],
   "source": [
    "schemacandify(fst)"
   ]
  }
 ],
 "metadata": {
  "kernelspec": {
   "display_name": "Julia 0.6.2",
   "language": "julia",
   "name": "julia-0.6"
  },
  "language_info": {
   "file_extension": ".jl",
   "mimetype": "application/julia",
   "name": "julia",
   "version": "0.6.2"
  }
 },
 "nbformat": 4,
 "nbformat_minor": 2
}
