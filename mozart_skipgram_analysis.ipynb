{
 "cells": [
  {
   "cell_type": "markdown",
   "metadata": {},
   "source": [
    "# Skipgram Analysis on Mozart Piano Sonatas\n",
    "\n",
    "The counts have already been generated, now they can be analyzed.\n",
    "\n",
    "## Setup"
   ]
  },
  {
   "cell_type": "code",
   "execution_count": 1,
   "metadata": {},
   "outputs": [],
   "source": [
    "using DigitalMusicology\n",
    "include(\"skipgrams.jl\")\n",
    "using Unsims"
   ]
  },
  {
   "cell_type": "code",
   "execution_count": 2,
   "metadata": {},
   "outputs": [
    {
     "data": {
      "text/plain": [
       "listcounts (generic function with 1 method)"
      ]
     },
     "execution_count": 2,
     "metadata": {},
     "output_type": "execute_result"
    }
   ],
   "source": [
    "countsdir = \"official_counts\"\n",
    "\n",
    "loadcounts(fn) = open(deserialize, joinpath(countsdir, fn))\n",
    "\n",
    "listcounts() = filter(f -> ismatch(r\".*jls\", f), readdir(countsdir))"
   ]
  },
  {
   "cell_type": "code",
   "execution_count": 3,
   "metadata": {},
   "outputs": [
    {
     "data": {
      "text/plain": [
       "5-element Array{String,1}:\n",
       " \"counts_2x2_p1_1.0_p2_1.0_2018-03-27T15:35:02.958.jls\"   \n",
       " \"counts_2x3_p1_1.0_p2_0.001_2018-03-27T17:18:16.149.jls\" \n",
       " \"counts_2x4_p1_1.0_p2_1.0e-6_2018-03-28T12_23_05.163.jls\"\n",
       " \"counts_3x2_p1_0.1_p2_1.0_2018-03-28T10:23:07.65.jls\"    \n",
       " \"counts_3x3_p1_0.1_p2_0.001_2018-03-28T23:58:41.003.jls\" "
      ]
     },
     "execution_count": 3,
     "metadata": {},
     "output_type": "execute_result"
    }
   ],
   "source": [
    "files = listcounts()"
   ]
  },
  {
   "cell_type": "markdown",
   "metadata": {},
   "source": [
    "## Load File and Compute Ranks"
   ]
  },
  {
   "cell_type": "code",
   "execution_count": 4,
   "metadata": {},
   "outputs": [
    {
     "data": {
      "text/plain": [
       "Trie{Array{DigitalMusicology.Pitches.MidiPitch,1},Float64}(...)"
      ]
     },
     "execution_count": 4,
     "metadata": {},
     "output_type": "execute_result"
    }
   ],
   "source": [
    "counts = loadcounts(files[5]) # pick index of desired file"
   ]
  },
  {
   "cell_type": "code",
   "execution_count": 5,
   "metadata": {},
   "outputs": [],
   "source": [
    "ranks = rankcounts(counts);"
   ]
  },
  {
   "cell_type": "code",
   "execution_count": 6,
   "metadata": {},
   "outputs": [
    {
     "data": {
      "text/plain": [
       "1.34234385e8"
      ]
     },
     "execution_count": 6,
     "metadata": {},
     "output_type": "execute_result"
    }
   ],
   "source": [
    "# total number of skipgrams\n",
    "total = sum(map(x->x[2], ranks))"
   ]
  },
  {
   "cell_type": "code",
   "execution_count": 7,
   "metadata": {
    "scrolled": true
   },
   "outputs": [
    {
     "data": {
      "text/plain": [
       "46680996"
      ]
     },
     "execution_count": 7,
     "metadata": {},
     "output_type": "execute_result"
    }
   ],
   "source": [
    "# number of different skipgram types found\n",
    "length(ranks)"
   ]
  },
  {
   "cell_type": "code",
   "execution_count": 8,
   "metadata": {
    "scrolled": true
   },
   "outputs": [
    {
     "name": "stdout",
     "output_type": "stream",
     "text": [
      "12991.0: [0, 0, 0] -> [0, 0, 0] -> [0, 0, 0]\n",
      "6276.0: [0, 0, 0] -> [0, 0, 0] -> [5, 0, 0]\n",
      "5942.0: [0, 0, 0] -> [5, 0, 0] -> [0, 0, 0]\n",
      "5833.0: [0, 0, 0] -> [0, 0, 0] -> [9, 0, 0]\n",
      "5196.0: [0, 3, 3] -> [3, 3, 3] -> [3, 3, 3]\n",
      "5177.0: [0, 0, 0] -> [9, 0, 0] -> [0, 0, 0]\n",
      "4608.0: [0, 0, 3] -> [10, 0, 2] -> [10, 10, 0]\n",
      "4597.0: [0, 3, 3] -> [10, 0, 2] -> [10, 10, 0]\n",
      "4363.0: [0, 0, 3] -> [10, 0, 2] -> [10, 0, 0]\n",
      "4288.0: [0, 7, 7] -> [7, 7, 7] -> [7, 7, 7]\n",
      "4254.0: [0, 3, 3] -> [10, 0, 2] -> [10, 0, 0]\n",
      "4043.0: [0, 0, 0] -> [0, 0, 0] -> [10, 0, 0]\n",
      "3999.0: [0, 1, 3] -> [10, 1, 1] -> [8, 10, 11]\n",
      "3984.0: [0, 3, 3] -> [10, 2, 2] -> [10, 0, 0]\n",
      "3958.0: [0, 3, 3] -> [0, 2, 2] -> [10, 10, 0]\n",
      "3805.0: [0, 3, 3] -> [10, 2, 2] -> [10, 10, 0]\n",
      "3787.0: [0, 3, 3] -> [0, 3, 3] -> [3, 3, 3]\n",
      "3694.0: [0, 0, 3] -> [10, 0, 2] -> [9, 10, 0]\n",
      "3686.0: [0, 0, 0] -> [10, 1, 1] -> [8, 10, 0]\n",
      "3650.0: [0, 0, 0] -> [0, 0, 0] -> [4, 0, 0]\n"
     ]
    }
   ],
   "source": [
    "# print top 20 ranks\n",
    "topranks(ranks, 20)"
   ]
  },
  {
   "cell_type": "code",
   "execution_count": 9,
   "metadata": {},
   "outputs": [
    {
     "data": {
      "text/plain": [
       "latexranks (generic function with 1 method)"
      ]
     },
     "execution_count": 9,
     "metadata": {},
     "output_type": "execute_result"
    }
   ],
   "source": [
    "function latexranks(ranks, n)\n",
    "  for (i, rank) in enumerate(ranks[1:n])\n",
    "    gram = join(map(r -> string(tuple(r...)), rank[1]), \" \\\\rightarrow \")\n",
    "    println(\"\\$$(i)\\$ & \\$$(gram)\\$ & \\$$(round(rank[2], -4))\\$ & \\$$(round(rank[2]/total, 4))\\$ \\\\\\\\\")\n",
    "  end\n",
    "end"
   ]
  },
  {
   "cell_type": "code",
   "execution_count": 10,
   "metadata": {},
   "outputs": [
    {
     "name": "stdout",
     "output_type": "stream",
     "text": [
      "$1$ & $(0, 0, 0) \\rightarrow (0, 0, 0) \\rightarrow (0, 0, 0)$ & $10000.0$ & $0.0001$ \\\\\n",
      "$2$ & $(0, 0, 0) \\rightarrow (0, 0, 0) \\rightarrow (5, 0, 0)$ & $10000.0$ & $0.0$ \\\\\n",
      "$3$ & $(0, 0, 0) \\rightarrow (5, 0, 0) \\rightarrow (0, 0, 0)$ & $10000.0$ & $0.0$ \\\\\n",
      "$4$ & $(0, 0, 0) \\rightarrow (0, 0, 0) \\rightarrow (9, 0, 0)$ & $10000.0$ & $0.0$ \\\\\n",
      "$5$ & $(0, 3, 3) \\rightarrow (3, 3, 3) \\rightarrow (3, 3, 3)$ & $10000.0$ & $0.0$ \\\\\n",
      "$6$ & $(0, 0, 0) \\rightarrow (9, 0, 0) \\rightarrow (0, 0, 0)$ & $10000.0$ & $0.0$ \\\\\n",
      "$7$ & $(0, 0, 3) \\rightarrow (10, 0, 2) \\rightarrow (10, 10, 0)$ & $0.0$ & $0.0$ \\\\\n",
      "$8$ & $(0, 3, 3) \\rightarrow (10, 0, 2) \\rightarrow (10, 10, 0)$ & $0.0$ & $0.0$ \\\\\n",
      "$9$ & $(0, 0, 3) \\rightarrow (10, 0, 2) \\rightarrow (10, 0, 0)$ & $0.0$ & $0.0$ \\\\\n",
      "$10$ & $(0, 7, 7) \\rightarrow (7, 7, 7) \\rightarrow (7, 7, 7)$ & $0.0$ & $0.0$ \\\\\n"
     ]
    }
   ],
   "source": [
    "latexranks(ranks, 10)"
   ]
  },
  {
   "cell_type": "markdown",
   "metadata": {},
   "source": [
    "## Filtering"
   ]
  },
  {
   "cell_type": "code",
   "execution_count": null,
   "metadata": {},
   "outputs": [],
   "source": [
    "morepitchesthan(cand, n) = length(Set(vcat(cand...))) > n\n",
    "ranksp3 = filter(r->morepitchesthan(r[1], 4), ranks)\n",
    "topranks(ranksp3, 40)"
   ]
  }
 ],
 "metadata": {
  "kernelspec": {
   "display_name": "Julia 0.6.2",
   "language": "julia",
   "name": "julia-0.6"
  },
  "language_info": {
   "file_extension": ".jl",
   "mimetype": "application/julia",
   "name": "julia",
   "version": "0.6.2"
  }
 },
 "nbformat": 4,
 "nbformat_minor": 2
}
