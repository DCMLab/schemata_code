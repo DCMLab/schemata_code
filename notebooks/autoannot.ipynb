{
 "cells": [
  {
   "cell_type": "code",
   "execution_count": 1,
   "metadata": {},
   "outputs": [
    {
     "data": {
      "text/plain": [
       "5"
      ]
     },
     "execution_count": 1,
     "metadata": {},
     "output_type": "execute_result"
    }
   ],
   "source": [
    "using Distributed\n",
    "addprocs(4)\n",
    "nprocs()"
   ]
  },
  {
   "cell_type": "code",
   "execution_count": 2,
   "metadata": {},
   "outputs": [
    {
     "name": "stdout",
     "output_type": "stream",
     "text": [
      "\u001b[32m\u001b[1mActivating\u001b[22m\u001b[39m environment at `~/DCML/schemata_code/Project.toml`\n",
      "      From worker 5:\tActivating environment at `~/DCML/schemata_code/Project.toml`\n",
      "      From worker 4:\tActivating environment at `~/DCML/schemata_code/Project.toml`\n",
      "      From worker 2:\tActivating environment at `~/DCML/schemata_code/Project.toml`\n",
      "      From worker 3:\tActivating environment at `~/DCML/schemata_code/Project.toml`\n"
     ]
    },
    {
     "data": {
      "text/html": [
       "<script>\n",
       "// Immediately-invoked-function-expression to avoid global variables.\n",
       "(function() {\n",
       "    var warning_div = document.getElementById(\"webio-warning-14021631262568913254\");\n",
       "    var hide = function () {\n",
       "        var script = document.getElementById(\"webio-setup-16120713156675459959\");\n",
       "        var parent = script && script.parentElement;\n",
       "        var grandparent = parent && parent.parentElement;\n",
       "        if (grandparent) {\n",
       "            grandparent.style.display = \"none\";\n",
       "        }\n",
       "        warning_div.style.display = \"none\";\n",
       "    };\n",
       "    if (typeof Jupyter !== \"undefined\") {\n",
       "        console.log(\"WebIO detected Jupyter notebook environment.\");\n",
       "        // Jupyter notebook.\n",
       "        var extensions = (\n",
       "            Jupyter\n",
       "            && Jupyter.notebook.config.data\n",
       "            && Jupyter.notebook.config.data.load_extensions\n",
       "        );\n",
       "        if (extensions && extensions[\"webio/main\"]) {\n",
       "            // Extension already loaded.\n",
       "            console.log(\"Jupyter WebIO nbextension detected; not loading ad-hoc.\");\n",
       "            hide();\n",
       "            return;\n",
       "        }\n",
       "        console.warn(\"Loading WebIO Jupyter extension on an ad-hoc basis. Consider enabling the WebIO nbextension for a stabler experience (this should happen automatically when building WebIO).\");\n",
       "        require([\"/assetserver/905b1a7a2a6966b0e3b9a1f3eda6f274db443f93-dist/main.js\"], function (webIOModule) {\n",
       "            webIOModule.load_ipython_extension();\n",
       "        });\n",
       "        warning_div.innerHTML = \"<strong>Loading WebIO Jupyter extension on an ad-hoc basis. Consider enabling the WebIO nbextension for a stabler experience (this should happen automatically when building WebIO).</strong>\";\n",
       "    } else if (window.location.pathname.includes(\"/lab\")) {\n",
       "        // Guessing JupyterLa\n",
       "        console.log(\"Jupyter Lab detected; make sure the @webio/jupyter-lab-provider labextension is installed.\");\n",
       "        hide();\n",
       "        return;\n",
       "    }\n",
       "})();\n",
       "\n",
       "</script>\n",
       "<div\n",
       "    id=\"webio-warning-14021631262568913254\"\n",
       "    class=\"output_text output_stderr\"\n",
       "    style=\"padding: 1em; font-weight: bold;\"\n",
       ">\n",
       "    Unable to load WebIO. Please make sure WebIO works for your Jupyter client.\n",
       "    <!-- TODO: link to installation docs. -->\n",
       "</div>\n"
      ],
      "text/plain": [
       "HTML{String}(\"<script>\\n// Immediately-invoked-function-expression to avoid global variables.\\n(function() {\\n    var warning_div = document.getElementById(\\\"webio-warning-14021631262568913254\\\");\\n    var hide = function () {\\n        var script = document.getElementById(\\\"webio-setup-16120713156675459959\\\");\\n        var parent = script && script.parentElement;\\n        var grandparent = parent && parent.parentElement;\\n        if (grandparent) {\\n            grandparent.style.display = \\\"none\\\";\\n        }\\n        warning_div.style.display = \\\"none\\\";\\n    };\\n    if (typeof Jupyter !== \\\"undefined\\\") {\\n        console.log(\\\"WebIO detected Jupyter notebook environment.\\\");\\n        // Jupyter notebook.\\n        var extensions = (\\n            Jupyter\\n            && Jupyter.notebook.config.data\\n            && Jupyter.notebook.config.data.load_extensions\\n        );\\n        if (extensions && extensions[\\\"webio/main\\\"]) {\\n            // Extension already loaded.\\n            console.log(\\\"Jupyter WebIO nbextension detected; not loading ad-hoc.\\\");\\n            hide();\\n            return;\\n        }\\n        console.warn(\\\"Loading WebIO Jupyter extension on an ad-hoc basis. Consider enabling the WebIO nbextension for a stabler experience (this should happen automatically when building WebIO).\\\");\\n        require([\\\"/assetserver/905b1a7a2a6966b0e3b9a1f3eda6f274db443f93-dist/main.js\\\"], function (webIOModule) {\\n            webIOModule.load_ipython_extension();\\n        });\\n        warning_div.innerHTML = \\\"<strong>Loading WebIO Jupyter extension on an ad-hoc basis. Consider enabling the WebIO nbextension for a stabler experience (this should happen automatically when building WebIO).</strong>\\\";\\n    } else if (window.location.pathname.includes(\\\"/lab\\\")) {\\n        // Guessing JupyterLa\\n        console.log(\\\"Jupyter Lab detected; make sure the @webio/jupyter-lab-provider labextension is installed.\\\");\\n        hide();\\n        return;\\n    }\\n})();\\n\\n</script>\\n<div\\n    id=\\\"webio-warning-14021631262568913254\\\"\\n    class=\\\"output_text output_stderr\\\"\\n    style=\\\"padding: 1em; font-weight: bold;\\\"\\n>\\n    Unable to load WebIO. Please make sure WebIO works for your Jupyter client.\\n    <!-- TODO: link to installation docs. -->\\n</div>\\n\")"
      ]
     },
     "metadata": {},
     "output_type": "display_data"
    },
    {
     "name": "stderr",
     "output_type": "stream",
     "text": [
      "[ Info: waiting for lock on pidfile at \"/home/deguernel/.jlassetregistry.lock\"\n",
      "[ Info: waiting for lock on pidfile at \"/home/deguernel/.jlassetregistry.lock\"\n"
     ]
    }
   ],
   "source": [
    "@everywhere import Pkg; \n",
    "@everywhere Pkg.activate(\"..\")\n",
    "@everywhere using DigitalMusicology\n",
    "@everywhere using Interact\n",
    "\n",
    "@everywhere include(\"../src/Polygrams.jl\");"
   ]
  },
  {
   "cell_type": "code",
   "execution_count": 3,
   "metadata": {},
   "outputs": [],
   "source": [
    "@everywhere corpusdir = joinpath(\"..\", \"..\", \"mozart_sonatas\")\n",
    "@everywhere lexicon = Polygrams.loadlexicon(joinpath(\"..\", \"data\", \"lexicon.json\"));\n",
    "@everywhere DigitalMusicology.usedir(joinpath(corpusdir, \"musicxml\"));\n",
    "@everywhere annotdir = joinpath(corpusdir, \"groups\");\n",
    "@everywhere DigitalMusicology.allpieces()"
   ]
  },
  {
   "cell_type": "code",
   "execution_count": 4,
   "metadata": {},
   "outputs": [],
   "source": [
    "#@everywhere corpus = [\"K310-2\"]; \n",
    "@everywhere schemata_list = [\"folia.3\", \"folia.4\"]; \n",
    "\n",
    "@everywhere corpus = DigitalMusicology.allpieces();\n",
    "#@everywhere schemata_list = keys(lexicon);\n",
    "\n"
   ]
  },
  {
   "cell_type": "markdown",
   "metadata": {},
   "source": [
    "Leave this code unchanged (but run the cells):"
   ]
  },
  {
   "cell_type": "code",
   "execution_count": 5,
   "metadata": {
    "scrolled": true
   },
   "outputs": [
    {
     "data": {
      "text/plain": [
       "Task (runnable) @0x00007f425d601ae0"
      ]
     },
     "execution_count": 5,
     "metadata": {},
     "output_type": "execute_result"
    },
    {
     "name": "stdout",
     "output_type": "stream",
     "text": [
      "      From worker 2:\tAlready up to date.\n",
      "      From worker 2:\tAlready up to date.\n",
      "      From worker 2:\tAlready up to date.\n",
      "      From worker 2:\tAlready up to date.\n",
      "      From worker 2:\tAlready up to date.\n",
      "      From worker 2:\tAlready up to date.\n",
      "      From worker 2:\tAlready up to date.\n",
      "      From worker 2:\tAlready up to date.\n",
      "      From worker 2:\tAlready up to date.\n",
      "      From worker 2:\tAlready up to date.\n",
      "      From worker 2:\tAlready up to date.\n",
      "      From worker 2:\tAlready up to date.\n",
      "      From worker 2:\tAlready up to date.\n",
      "      From worker 2:\tAlready up to date.\n",
      "      From worker 2:\tAlready up to date.\n",
      "      From worker 2:\tAlready up to date.\n",
      "      From worker 2:\tAlready up to date.\n",
      "      From worker 2:\tAlready up to date.\n",
      "      From worker 2:\tAlready up to date.\n",
      "      From worker 2:\tAlready up to date.\n",
      "      From worker 2:\tAlready up to date.\n",
      "      From worker 2:\tAlready up to date.\n",
      "      From worker 2:\tAlready up to date.\n",
      "      From worker 2:\tAlready up to date.\n",
      "      From worker 2:\tAlready up to date.\n",
      "      From worker 2:\tAlready up to date.\n",
      "      From worker 2:\tAlready up to date.\n",
      "      From worker 2:\tAlready up to date.\n",
      "      From worker 3:\tAlready up to date.\n",
      "      From worker 3:\tAlready up to date.\n",
      "      From worker 3:\tAlready up to date.\n",
      "      From worker 3:\tAlready up to date.\n",
      "      From worker 3:\tAlready up to date.\n",
      "      From worker 3:\tAlready up to date.\n",
      "      From worker 3:\tAlready up to date.\n",
      "      From worker 3:\tAlready up to date.\n",
      "      From worker 3:\tAlready up to date.\n",
      "      From worker 3:\tAlready up to date.\n",
      "      From worker 3:\tAlready up to date.\n",
      "      From worker 3:\tAlready up to date.\n",
      "      From worker 3:\tAlready up to date.\n",
      "      From worker 3:\tAlready up to date.\n",
      "      From worker 3:\tAlready up to date.\n",
      "      From worker 3:\tAlready up to date.\n",
      "      From worker 3:\tAlready up to date.\n",
      "      From worker 3:\tAlready up to date.\n",
      "      From worker 3:\tAlready up to date.\n",
      "      From worker 3:\tAlready up to date.\n",
      "      From worker 3:\tAlready up to date.\n",
      "      From worker 3:\tAlready up to date.\n",
      "      From worker 3:\tAlready up to date.\n",
      "      From worker 3:\tAlready up to date.\n",
      "      From worker 3:\tAlready up to date.\n",
      "      From worker 3:\tAlready up to date.\n",
      "      From worker 3:\tAlready up to date.\n",
      "      From worker 4:\tAlready up to date.\n",
      "      From worker 4:\tAlready up to date.\n",
      "      From worker 4:\tAlready up to date.\n",
      "      From worker 4:\tAlready up to date.\n",
      "      From worker 5:\tAlready up to date.\n",
      "      From worker 5:\tAlready up to date.\n",
      "      From worker 5:\tAlready up to date.\n",
      "      From worker 5:\tAlready up to date.\n",
      "      From worker 5:\tAlready up to date.\n",
      "      From worker 5:\tAlready up to date.\n",
      "      From worker 5:\tAlready up to date.\n",
      "      From worker 5:\tAlready up to date.\n",
      "      From worker 5:\tAlready up to date.\n",
      "      From worker 5:\tAlready up to date.\n",
      "      From worker 5:\tAlready up to date.\n",
      "      From worker 5:\tAlready up to date.\n",
      "      From worker 5:\tAlready up to date.\n",
      "      From worker 5:\tAlready up to date.\n",
      "      From worker 5:\tAlready up to date.\n",
      "      From worker 5:\tAlready up to date.\n",
      "      From worker 5:\tAlready up to date.\n",
      "      From worker 5:\tAlready up to date.\n",
      "      From worker 5:\tAlready up to date.\n",
      "      From worker 5:\tAlready up to date.\n",
      "      From worker 5:\tAlready up to date.\n",
      "      From worker 5:\tAlready up to date.\n",
      "      From worker 5:\tAlready up to date.\n"
     ]
    },
    {
     "name": "stderr",
     "output_type": "stream",
     "text": [
      "┌ Warning: unfolding for time signatures is not implemented yet!\n",
      "└ @ DigitalMusicology.Corpora.Directory ~/.julia/packages/DigitalMusicology/6r3xS/src/corpora/Directory.jl:67\n",
      "┌ Warning: unfolding for time signatures is not implemented yet!\n",
      "└ @ DigitalMusicology.Corpora.Directory ~/.julia/packages/DigitalMusicology/6r3xS/src/corpora/Directory.jl:67\n",
      "┌ Warning: unfolding for time signatures is not implemented yet!\n",
      "└ @ DigitalMusicology.Corpora.Directory ~/.julia/packages/DigitalMusicology/6r3xS/src/corpora/Directory.jl:67\n"
     ]
    }
   ],
   "source": [
    "@distributed for piece in corpus\n",
    "    for schema in schemata_list\n",
    "        \n",
    "        infile = getpiece(piece, :file, :musicxml);\n",
    "        outfile = Polygrams.annotfilename(piece, schema, annotdir)\n",
    "        if !isfile(outfile) || mtime(infile) > mtime(outfile)\n",
    "        \n",
    "            notes = getpiece(piece, :notes, :musicxml, type=:notes, keepids=true);\n",
    "            xml = getpiece(piece, :xml, :musicxml, keepids=true)\n",
    "            timesigs = getpiece(piece, :timesigs, :musicxml)[1]\n",
    "            timesig = content(timesigs[1]);\n",
    "            barlen = duration(timesig)\n",
    "            beatfactor = denominator(timesig)\n",
    "            pattern = lexicon[schema];\n",
    "            featurefs = [\n",
    "                poly -> beatfactor * Polygrams.totalduration(poly), # duration\n",
    "                Polygrams.voicedist,                                # voice dist\n",
    "                poly -> beatfactor * Polygrams.instageskip(poly)    # stage skip\n",
    "                #, poly -> Polygrams.polymweight(poly, timesigs) # metric weight\n",
    "            ]\n",
    "            featureweights = [1, -1, -2]; # maaaaaagic\n",
    "        \n",
    "            polyitr = Polygrams.schemamatches(notes, [pattern], barlen, barlen);\n",
    "            polys = collect(polyitr);\n",
    "            sorted = Polygrams.sortbyheuristics(polys, featurefs, featureweights);\n",
    "            print(length(sorted))\n",
    "            #scores = Dict(poly => Polygrams.rate(poly, featurefs, featureweights) for poly in polys);\n",
    "        \n",
    "            best = Polygrams.bestmatchestime(sorted)\n",
    "            groups = map(b -> Polygrams.findcompetitors(Polygrams.polyssharetime, b, sorted), best)\n",
    "            groups = map(g -> g[1:min(25, length(g))], groups)\n",
    "            sort!(groups, by=g -> onset(g[1][1][1]))\n",
    "            Polygrams.savegroups(piece, schema, groups, annotdir)\n",
    "            println(\"saved!\")\n",
    "        else\n",
    "            println(\"Already up to date.\")\n",
    "        end\n",
    "    end\n",
    "end"
   ]
  },
  {
   "cell_type": "code",
   "execution_count": null,
   "metadata": {},
   "outputs": [],
   "source": []
  }
 ],
 "metadata": {
  "@webio": {
   "lastCommId": "48ca00a8c8c949a481f42722c3ef6468",
   "lastKernelId": "f2809104-b85d-4a2e-8a32-cac5415c4fd0"
  },
  "kernelspec": {
   "display_name": "Julia 1.2.0",
   "language": "julia",
   "name": "julia-1.2"
  },
  "language_info": {
   "file_extension": ".jl",
   "mimetype": "application/julia",
   "name": "julia",
   "version": "1.2.0"
  }
 },
 "nbformat": 4,
 "nbformat_minor": 2
}
