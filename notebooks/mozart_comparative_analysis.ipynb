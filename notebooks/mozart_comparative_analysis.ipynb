{
 "cells": [
  {
   "cell_type": "markdown",
   "metadata": {},
   "source": [
    "# Comparative Analysis\n",
    "\n",
    "We compare the results of different skipgram counts.\n",
    "\n",
    "## Setup"
   ]
  },
  {
   "cell_type": "code",
   "execution_count": 1,
   "metadata": {},
   "outputs": [],
   "source": [
    "using DigitalMusicology\n",
    "include(\"../src/polygrams.jl\")\n",
    "using Polygrams"
   ]
  },
  {
   "cell_type": "code",
   "execution_count": 2,
   "metadata": {},
   "outputs": [
    {
     "data": {
      "text/plain": [
       "Plots.GRBackend()"
      ]
     },
     "execution_count": 2,
     "metadata": {},
     "output_type": "execute_result"
    }
   ],
   "source": [
    "using Plots\n",
    "gr()"
   ]
  },
  {
   "cell_type": "code",
   "execution_count": 3,
   "metadata": {},
   "outputs": [
    {
     "data": {
      "text/plain": [
       "listcounts (generic function with 1 method)"
      ]
     },
     "execution_count": 3,
     "metadata": {},
     "output_type": "execute_result"
    }
   ],
   "source": [
    "countsdir = \"../official_counts\"\n",
    "\n",
    "loadcounts(fn) = open(deserialize, joinpath(countsdir, fn))\n",
    "\n",
    "listcounts() = filter(f -> ismatch(r\".*jls\", f), readdir(countsdir))"
   ]
  },
  {
   "cell_type": "code",
   "execution_count": 4,
   "metadata": {},
   "outputs": [
    {
     "data": {
      "text/plain": [
       "4-element Array{String,1}:\n",
       " \"counts_2x2_p1_1.0_p2_1.0_2018-03-27T15:35:02.958.jls\"   \n",
       " \"counts_2x3_p1_1.0_p2_0.001_2018-03-27T17:18:16.149.jls\" \n",
       " \"counts_2x4_p1_1.0_p2_1.0e-6_2018-03-28T12_23_05.163.jls\"\n",
       " \"counts_3x2_p1_0.1_p2_1.0_2018-03-28T10:23:07.65.jls\"    "
      ]
     },
     "execution_count": 4,
     "metadata": {},
     "output_type": "execute_result"
    }
   ],
   "source": [
    "files = listcounts()"
   ]
  },
  {
   "cell_type": "code",
   "execution_count": null,
   "metadata": {},
   "outputs": [],
   "source": [
    "ranksv = map(files) do file\n",
    "        counts = open(deserialize, joinpath(countsdir, file))\n",
    "        Unsims.rankcounts(counts)\n",
    "    end;"
   ]
  },
  {
   "cell_type": "markdown",
   "metadata": {},
   "source": [
    "## Zipf Law"
   ]
  },
  {
   "cell_type": "code",
   "execution_count": null,
   "metadata": {},
   "outputs": [],
   "source": [
    "plot()\n",
    "for (fn, ranks) in zip(files, ranksv)\n",
    "    total = sum(map(r->r[2], ranks))\n",
    "    plot!(1:length(ranks), map(r->r[2], ranks), label=fn[8:10], xscale=:log10, yscale=:log10)\n",
    "end\n",
    "plot!()"
   ]
  },
  {
   "cell_type": "code",
   "execution_count": 15,
   "metadata": {},
   "outputs": [
    {
     "data": {
      "text/plain": [
       "4-element Array{Array{Float64,1},1}:\n",
       " [3.30016e6, 1.37945e6, 1.33977e6, 1.33804e6, 1.32436e6, 1.30577e6, 1.28411e6, 1.27264e6, 1.2204e6, 1.21384e6  …  13681.0, 13388.0, 13276.0, 13101.0, 12937.0, 12853.0, 12826.0, 11716.0, 9701.0, 8547.0]\n",
       " [121073.0, 44143.0, 43764.0, 40859.0, 40543.0, 39470.0, 39056.0, 34975.0, 29343.0, 28667.0  …  1.0, 1.0, 1.0, 1.0, 1.0, 1.0, 1.0, 1.0, 1.0, 1.0]                                                        \n",
       " [6381.0, 2436.0, 2386.0, 2184.0, 2173.0, 2075.0, 2031.0, 2001.0, 1918.0, 1753.0  …  1.0, 1.0, 1.0, 1.0, 1.0, 1.0, 1.0, 1.0, 1.0, 1.0]                                                                   \n",
       " [461238.0, 214255.0, 208562.0, 205212.0, 200170.0, 172370.0, 162212.0, 133658.0, 131357.0, 128846.0  …  1.0, 1.0, 1.0, 1.0, 1.0, 1.0, 1.0, 1.0, 1.0, 1.0]                                               "
      ]
     },
     "execution_count": 15,
     "metadata": {},
     "output_type": "execute_result"
    }
   ],
   "source": [
    "freqsv = map(rs->map(r->r[2], rs), ranksv)"
   ]
  },
  {
   "cell_type": "code",
   "execution_count": 20,
   "metadata": {},
   "outputs": [],
   "source": [
    "open(\"2x4freqs.txt\", \"w\") do file\n",
    "    for freq in freqsv[3]\n",
    "        println(file, freq)\n",
    "    end\n",
    "end"
   ]
  }
 ],
 "metadata": {
  "kernelspec": {
   "display_name": "Julia 0.6.2",
   "language": "julia",
   "name": "julia-0.6"
  },
  "language_info": {
   "file_extension": ".jl",
   "mimetype": "application/julia",
   "name": "julia",
   "version": "0.6.2"
  }
 },
 "nbformat": 4,
 "nbformat_minor": 2
}
