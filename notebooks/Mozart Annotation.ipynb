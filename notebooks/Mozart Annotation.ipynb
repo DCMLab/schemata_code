{
 "cells": [
  {
   "cell_type": "markdown",
   "metadata": {},
   "source": [
    "# Mozart Annotation\n",
    "\n",
    "This notebook can be used to annotate schemata the Mozart piano sonatas.\n",
    "\n",
    "The first part is some setup, which needs to run once but you can ignore."
   ]
  },
  {
   "cell_type": "code",
   "execution_count": null,
   "metadata": {},
   "outputs": [],
   "source": [
    "pwd()"
   ]
  },
  {
   "cell_type": "code",
   "execution_count": null,
   "metadata": {},
   "outputs": [],
   "source": [
    "import Pkg; Pkg.activate(\"..\")\n",
    "using DigitalMusicology\n",
    "using Interact\n",
    "include(\"../src/polygrams.jl\");"
   ]
  },
  {
   "cell_type": "code",
   "execution_count": null,
   "metadata": {},
   "outputs": [],
   "source": [
    "corpusdir = joinpath(\"..\", \"data\", \"corpora\", \"dcml_corpora\", \"annotations\", \"Mozart-Sonatas\")\n",
    "DigitalMusicology.usedir(joinpath(corpusdir, \"Schema Annotations\", \"musicxml\"))\n",
    "lexicon = Polygrams.loadlexicon(joinpath(\"..\", \"data\", \"lexicon_spelled_flat.json\"));\n",
    "annotdir = joinpath(corpusdir, \"Schema Annotations\", \"annotations\");\n",
    "DigitalMusicology.allpieces()"
   ]
  },
  {
   "cell_type": "markdown",
   "metadata": {},
   "source": [
    "# Start Here!!!\n",
    "\n",
    "Annotation consists of three steps:\n",
    "1. specification of piece and schema\n",
    "2. annotation (matcher-aided + manual)\n",
    "3. saving the annotations\n",
    "\n",
    "## 1. Specify Piece and Schema\n",
    "\n",
    "In order to annotate a piece wrt. a schema variant, adapt the following values, then run all cells up to **Annotate**."
   ]
  },
  {
   "cell_type": "code",
   "execution_count": null,
   "metadata": {},
   "outputs": [],
   "source": [
    "# adapt this:\n",
    "piece = \"K281-3\"; #filename in data/corpora/mozart-piano-sonatas/midi-norep without extension\n",
    "schema = \"fonte.2\";   # name of the schema as in data/lexicon_flat.json"
   ]
  },
  {
   "cell_type": "markdown",
   "metadata": {},
   "source": [
    "Leave this code unchanged (but run the cells):"
   ]
  },
  {
   "cell_type": "code",
   "execution_count": null,
   "metadata": {},
   "outputs": [],
   "source": [
    "notes = getpiece(piece, :notes, :musicxml, type=:notes, keepids=true);\n",
    "xml = getpiece(piece, :xml, :musicxml, keepids=true)\n",
    "timesigs = getpiece(piece, :timesigs, :musicxml)[1]\n",
    "timesig = content(timesigs[1]);\n",
    "barlen = duration(timesig)\n",
    "beatfactor = denominator(timesig)\n",
    "pattern = lexicon[schema];\n",
    "featurefs = [\n",
    "    poly -> beatfactor * Polygrams.totalduration(poly), # duration\n",
    "    Polygrams.voicedist,                                # voice dist\n",
    "    poly -> beatfactor * Polygrams.instageskip(poly)    # stage skip\n",
    "    #, poly -> Polygrams.polymweight(poly, timesigs) # metric weight\n",
    "]\n",
    "featureweights = [1, -1, -2]; # maaaaaagic"
   ]
  },
  {
   "cell_type": "code",
   "execution_count": null,
   "metadata": {},
   "outputs": [],
   "source": [
    "polyitr = Polygrams.schemamatches(notes, [pattern], barlen, barlen);\n",
    "polys = collect(polyitr);\n",
    "sorted = Polygrams.sortbyheuristics(polys, featurefs, featureweights);\n",
    "scores = Dict(poly => Polygrams.rate(poly, featurefs, featureweights) for poly in polys);"
   ]
  },
  {
   "cell_type": "code",
   "execution_count": null,
   "metadata": {},
   "outputs": [],
   "source": [
    "length(sorted)"
   ]
  },
  {
   "cell_type": "markdown",
   "metadata": {},
   "source": [
    "## 2. Annotate\n",
    "\n",
    "Run the following two cells to (re-) create an assisted and a manual annotation view.\n",
    "Then annotate the schema instances by selecting and adapting the found instances in the assited view\n",
    "and adding new instances in the manual view, if necessary."
   ]
  },
  {
   "cell_type": "code",
   "execution_count": null,
   "metadata": {},
   "outputs": [],
   "source": [
    "matcherwdg = Polygrams.matchinteractivewdg(notes, sorted, xml)"
   ]
  },
  {
   "cell_type": "code",
   "execution_count": null,
   "metadata": {},
   "outputs": [],
   "source": [
    "markwdg = Polygrams.markschemaswdg(notes, xml, [pattern], timesigs=timesigs)"
   ]
  },
  {
   "cell_type": "markdown",
   "metadata": {},
   "source": [
    "## 3. Save\n",
    "\n",
    "Run the next two cells to save the piece. Make sure to not overwrite an old annotation by running this notebook!"
   ]
  },
  {
   "cell_type": "code",
   "execution_count": null,
   "metadata": {},
   "outputs": [],
   "source": [
    "save = Interact.confirm(\"Are you sure you want to write (and potentially overwrite) the $(schema) annotations for $(piece)?\") do yes\n",
    "    if (yes)\n",
    "        annots = collect(markwdg[])\n",
    "        union!(annots, matcherwdg[])\n",
    "        Polygrams.saveannots(piece, schema, annots, annotdir)\n",
    "        println(\"saved!\")\n",
    "    end\n",
    "end"
   ]
  },
  {
   "cell_type": "code",
   "execution_count": null,
   "metadata": {},
   "outputs": [],
   "source": [
    "save()"
   ]
  },
  {
   "cell_type": "markdown",
   "metadata": {},
   "source": [
    "# Repeat\n",
    "\n",
    "If you want to annotate another piece, po back to **Start Here**."
   ]
  }
 ],
 "metadata": {
  "@webio": {
   "lastCommId": "45e0ebb028014b769a7899296ae2cc5f",
   "lastKernelId": "32ae527b-986f-461f-8347-a3b2884d6def"
  },
  "kernelspec": {
   "display_name": "Julia 1.0.3",
   "language": "julia",
   "name": "julia-1.0"
  },
  "language_info": {
   "file_extension": ".jl",
   "mimetype": "application/julia",
   "name": "julia",
   "version": "1.1.1"
  }
 },
 "nbformat": 4,
 "nbformat_minor": 2
}
