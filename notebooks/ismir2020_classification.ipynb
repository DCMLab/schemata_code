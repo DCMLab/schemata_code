{
 "cells": [
  {
   "cell_type": "markdown",
   "metadata": {},
   "source": [
    "# ISMIR 2020: Schema Instance Classification\n",
    "\n",
    "This notebook is used to generate the results presented in the paper.\n",
    "\n",
    "## Data Loading"
   ]
  },
  {
   "cell_type": "code",
   "execution_count": null,
   "metadata": {},
   "outputs": [],
   "source": [
    "import Pkg; Pkg.activate(\"..\"); Pkg.instantiate();"
   ]
  },
  {
   "cell_type": "code",
   "execution_count": null,
   "metadata": {},
   "outputs": [],
   "source": [
    "include(\"../src/classify.jl\"); pgfplotsx();"
   ]
  },
  {
   "cell_type": "code",
   "execution_count": null,
   "metadata": {},
   "outputs": [],
   "source": [
    "# setup\n",
    "\n",
    "corpusdir = \"../../schema_annotation_data/data/mozart_sonatas/\"; # TODO: fix this for the final notebook\n",
    "\n",
    "lex = Polygrams.loadlexicon(joinpath(corpusdir, \"..\", \"lexicon.json\"));\n",
    "\n",
    "# TODO: select schemata\n",
    "ismirschemas = [\n",
    "    \"doremi.2\", # 5\n",
    "    \"fenaroli.2\", # 10\n",
    "    \"fenaroli.2.min\", # 3\n",
    "    #\"fenaroli.2.basscanon\", # 0\n",
    "    \"fenaroli.2.basscanon.min\", # 1\n",
    "    #\"fenaroli.2.durante\",\n",
    "    #\"fenaroli.2.durante.min\",\n",
    "    \"fenaroli.2.flipped\", # 43\n",
    "    \"fenaroli.2.flipped.min\", # 8\n",
    "    \"fenaroli.2.melcanon\", # 6\n",
    "    \"fenaroli.2.melcanon.min\", # 2\n",
    "    #\"folia.2\", # 0\n",
    "    \"fonte.2\", # 49\n",
    "    \"fonte.2.flipped\", # 2\n",
    "    \"fonte.2.majmaj\", # 8\n",
    "    #\"grandcad.2\", # 0\n",
    "    \"indugio.2\", # 9\n",
    "    \"indugio.2.voiceex\", # 5\n",
    "    \"lamento.2\", # 2\n",
    "    \"lully.2\", # 2\n",
    "    \"morte.2\", # 1\n",
    "    \"prinner.2\", # 32\n",
    "    \"quiescenza.2\", # 46\n",
    "    \"quiescenza.2.diatonic\", # 6\n",
    "    \"solfami.2\" # 4\n",
    "];"
   ]
  },
  {
   "cell_type": "code",
   "execution_count": null,
   "metadata": {
    "scrolled": true
   },
   "outputs": [],
   "source": [
    "# loading and cleaning\n",
    "\n",
    "df, notelists, foldednotedicts, tsigs =\n",
    "    loadcorpusdata(corpusdir, ismirschemas);\n",
    "\n",
    "df = cleancorpusdata(df, lex, foldednotedicts)\n",
    "df = findgroups(df)\n",
    "df = findfullcontexts(df, notelists)\n",
    "\n",
    "describe(df)"
   ]
  },
  {
   "cell_type": "code",
   "execution_count": null,
   "metadata": {},
   "outputs": [],
   "source": [
    "# basic statistics\n",
    "n = size(df)[1]\n",
    "npos = count(df.isinstance)\n",
    "\n",
    "println(\"data points: \", n)\n",
    "println(\"positives: $npos ($(npos/n))\")\n",
    "println(\"negatives: $(n-npos) ($(1-(npos/n)))\")\n",
    "\n",
    "println(\"total number of notes: \", sum(length.(values(foldednotedicts))))\n",
    "\n",
    "sort(by(df, :schema, instances=:isinstance=>count), :schema)"
   ]
  },
  {
   "cell_type": "markdown",
   "metadata": {},
   "source": [
    "## Features"
   ]
  },
  {
   "cell_type": "code",
   "execution_count": null,
   "metadata": {},
   "outputs": [],
   "source": [
    "# define the set of \"independent\" features\n",
    "# which don't depend on training data\n",
    "\n",
    "features = Dict(\n",
    "    :mweight => row -> mWeight(row.noteswritten, get(row.timesigs)),\n",
    "    :dur =>     row -> getDuration(row.notes, row.beatfactor),\n",
    "    :vdist =>   row -> Polygrams.voicedist(row.notes),\n",
    "    #:sskip =>   row -> stageSkip(row.notes, row.beatfactor),\n",
    "    :rdsums =>  row -> rhythmDistanceSumInEvent(row.notes, row.beatfactor),\n",
    "    :rdsumv =>  row -> rhythmDistanceSumInVoice(row.notes, row.beatfactor),\n",
    "    :onsets =>  row -> onsetsinstage(row.notes, row.context),\n",
    "    :rreg =>    row -> rhythmicirregularity(row.notes, row.beatfactor),\n",
    "    :mreg   =>  row -> metricirregularity(row.notes, row.beatfactor),\n",
    "    :pdsums =>  row -> pitchDistanceSumInEvent(row.notes),\n",
    "    :pdsumv =>  row -> pitchDistanceSumInVoice(row.notes),\n",
    "    :preg =>    row -> pitchirregularity(row.notes),\n",
    ")\n",
    "\n",
    "indepfeatnames = [:rreg, :mreg, :preg,\n",
    "                  :rdsums, :rdsumv, :pdsums, :pdsumv,\n",
    "                  :mweight, :dur, :onsets, :vdist] # independent feature names\n",
    "featnames = [:profiledist, indepfeatnames...]; # all feature names"
   ]
  },
  {
   "cell_type": "code",
   "execution_count": null,
   "metadata": {
    "scrolled": false
   },
   "outputs": [],
   "source": [
    "# run the features on the whole dataset\n",
    "df = runfeatures(df, features);\n",
    "describe(df[!,indepfeatnames])"
   ]
  },
  {
   "cell_type": "markdown",
   "metadata": {},
   "source": [
    "## Training and Evaluation"
   ]
  },
  {
   "cell_type": "code",
   "execution_count": null,
   "metadata": {},
   "outputs": [],
   "source": [
    "# define the training pipeline\n",
    "\n",
    "function pipeline(dftrain, dftest)\n",
    "    # train and run features that depend on training data\n",
    "    info = trainfeatures(dftrain)\n",
    "    dftrain = rundepfeatures(dftrain, info)\n",
    "    dftest  = rundepfeatures(dftest,  info)\n",
    "    \n",
    "    # upsample the dataset to balance the classes\n",
    "    dfutrain = upsample(dftrain)\n",
    "    dfutest  = upsample(dftest)\n",
    "    \n",
    "    # fit the model\n",
    "    modelu = fitmodel(dfutrain, featnames)\n",
    "    # TODO: add other models\n",
    "    \n",
    "    # make predictions\n",
    "    dfupred = addpredictions(dfutest, modelu) # on balanced data\n",
    "    dfpredcorr = addpredictions(dftest, modelu)\n",
    "    dfpred = addpredictions(dftest, modelu; corrinter=0)\n",
    "    \n",
    "    println(modelu)\n",
    "    println()\n",
    "    showeval(dfupred)\n",
    "    println()\n",
    "    \n",
    "    return dfupred, dfpredcorr, dfpred, modelu\n",
    "end"
   ]
  },
  {
   "cell_type": "code",
   "execution_count": null,
   "metadata": {
    "scrolled": true
   },
   "outputs": [],
   "source": [
    "# run the crossvalidation and collect the data\n",
    "\n",
    "crossdata = crossval(pipeline, df, 5);\n",
    "\n",
    "dfupred = vcat(getindex.(crossdata, 1)...);\n",
    "dfpredcorr = vcat(getindex.(crossdata, 2)...);\n",
    "dfpred = vcat(getindex.(crossdata, 3)...);\n",
    "models = getindex.(crossdata, 4);"
   ]
  },
  {
   "cell_type": "markdown",
   "metadata": {},
   "source": [
    "### Direct Evaluation"
   ]
  },
  {
   "cell_type": "code",
   "execution_count": null,
   "metadata": {
    "scrolled": true
   },
   "outputs": [],
   "source": [
    "# overall evaluation\n",
    "\n",
    "showeval(dfupred)\n",
    "evaltex(dfupred)"
   ]
  },
  {
   "cell_type": "code",
   "execution_count": null,
   "metadata": {},
   "outputs": [],
   "source": [
    "showeval(dfpred)\n",
    "evaltex(dfpred)"
   ]
  },
  {
   "cell_type": "code",
   "execution_count": null,
   "metadata": {},
   "outputs": [],
   "source": [
    "showeval(dfpredcorr)\n",
    "evaltex(dfpredcorr)"
   ]
  },
  {
   "cell_type": "markdown",
   "metadata": {},
   "source": [
    "### Grouped Evaluation"
   ]
  },
  {
   "cell_type": "code",
   "execution_count": null,
   "metadata": {},
   "outputs": [],
   "source": [
    "groupdata(df) = by(df, :group, isinstance=:isinstance=>any, predbool=:predbool=>any)\n",
    "dfupredgrp = groupdata(dfupred)\n",
    "dfpredgrp = groupdata(dfpred)\n",
    "dfpredcorrgrp = groupdata(dfpredcorr);"
   ]
  },
  {
   "cell_type": "code",
   "execution_count": null,
   "metadata": {},
   "outputs": [],
   "source": [
    "showeval(dfupredgrp) # note that grouping removes the effect of upsampling\n",
    "evaltex(dfupredgrp)"
   ]
  },
  {
   "cell_type": "code",
   "execution_count": null,
   "metadata": {},
   "outputs": [],
   "source": [
    "showeval(dfpredgrp)\n",
    "evaltex(dfpredgrp)"
   ]
  },
  {
   "cell_type": "code",
   "execution_count": null,
   "metadata": {
    "scrolled": true
   },
   "outputs": [],
   "source": [
    "# this doesn't really make sense because it's not corrected to the right proportion\n",
    "showeval(dfpredcorrgrp)\n",
    "evaltex(dfpredcorrgrp)"
   ]
  },
  {
   "cell_type": "code",
   "execution_count": null,
   "metadata": {},
   "outputs": [],
   "source": [
    "# run the predictions again but correct for the imbalance of the grouped data\n",
    "preds = map(getindex.(crossdata, 3), models) do dfpart, model\n",
    "    dfpartgrp = groupdata(dfpart)\n",
    "    prop = count(dfpartgrp.isinstance) / size(dfpartgrp)[1]\n",
    "    dfpart = addpredictions(dfpart, model; tau=prop)\n",
    "    dfpart\n",
    "end\n",
    "dfpredcorr2 = vcat(preds...)\n",
    "dfpredcorr2grp = groupdata(dfpredcorr2)\n",
    "showeval(dfpredcorr2grp)\n",
    "evaltex(dfpredcorr2grp)"
   ]
  },
  {
   "cell_type": "markdown",
   "metadata": {},
   "source": [
    "## Model Inspection"
   ]
  },
  {
   "cell_type": "code",
   "execution_count": null,
   "metadata": {},
   "outputs": [],
   "source": [
    "# fit the model again, this time on the full data\n",
    "# # dependent features are still based on the cross-validation splits\n",
    "\n",
    "info = trainfeatures(df);\n",
    "dfcomplete = rundepfeatures(df, info);"
   ]
  },
  {
   "cell_type": "code",
   "execution_count": null,
   "metadata": {},
   "outputs": [],
   "source": [
    "dfucomplete = upsample(dfcomplete)\n",
    "dfdcomplete = downsample(dfcomplete)\n",
    "model = fitmodel(dfucomplete, featnames)"
   ]
  },
  {
   "cell_type": "code",
   "execution_count": null,
   "metadata": {
    "scrolled": false
   },
   "outputs": [],
   "source": [
    "cnames = plotmodel(model; xrotation=90, typ=:bar, tickfontsize=12, tickfonthalign=:hcenter, legend=false)\n",
    "pointdict = Dict(zip(coefnames(model), eachrow(hcat(coef.(models)...))))\n",
    "points = vcat((pointdict[n]' for n in cnames)...)\n",
    "n = size(points)[1]\n",
    "modelplot = plot!([x - 0.33 for x in 1:n], points ; typ=:scatter, color=:black, alpha=0.5)"
   ]
  },
  {
   "cell_type": "code",
   "execution_count": null,
   "metadata": {},
   "outputs": [],
   "source": [
    "savefig(modelplot, \"modelplot.tex\")\n",
    "savefig(modelplot, \"modelplot.pdf\")"
   ]
  },
  {
   "cell_type": "code",
   "execution_count": null,
   "metadata": {},
   "outputs": [],
   "source": [
    "dfucomplete = addpredictions(dfucomplete, model)\n",
    "showeval(dfucomplete)"
   ]
  },
  {
   "cell_type": "code",
   "execution_count": null,
   "metadata": {},
   "outputs": [],
   "source": [
    "dfcomplete = addpredictions(dfcomplete, model; corrinter=0);"
   ]
  },
  {
   "cell_type": "code",
   "execution_count": null,
   "metadata": {},
   "outputs": [],
   "source": [
    "predplt = plotcol(dfcomplete, :pred;\n",
    "                  group=:isinstance, label=[\"non-insts\" \"instances\"],\n",
    "                  title=\"Combined Prediction\",\n",
    "                  size=(600,200), lw=1,\n",
    "                  ls=[:dash :solid], legend=:topright, legendfontsize=11)"
   ]
  },
  {
   "cell_type": "code",
   "execution_count": null,
   "metadata": {},
   "outputs": [],
   "source": [
    "savefig(predplt, \"preddist.tex\")\n",
    "savefig(predplt, \"preddist.pdf\")"
   ]
  },
  {
   "cell_type": "code",
   "execution_count": null,
   "metadata": {},
   "outputs": [],
   "source": [
    "featplts = featureplots(dfcomplete, featnames; group=:isinstance,# width=600, height=150,\n",
    "                        labels=[\"non-insts\" \"instances\"], title=\"\",\n",
    "                        ls=[:dash :solid], lw=1,\n",
    "                        titlefontsize=14, legendfontsize=11)"
   ]
  },
  {
   "cell_type": "code",
   "execution_count": null,
   "metadata": {},
   "outputs": [],
   "source": [
    "distplt = plot(featplts...; layout=grid(6,2), size=(600,1000))"
   ]
  },
  {
   "cell_type": "code",
   "execution_count": null,
   "metadata": {},
   "outputs": [],
   "source": [
    "savefig(distplt, \"featdist.tex\")\n",
    "savefig(distplt, \"featdist.pdf\")"
   ]
  },
  {
   "cell_type": "markdown",
   "metadata": {},
   "source": [
    "## Inspecting Misclassified Matches"
   ]
  },
  {
   "cell_type": "code",
   "execution_count": null,
   "metadata": {},
   "outputs": [],
   "source": [
    "wrong = confidentfps(dfpred[.! dfpred.groupisinstance,:])"
   ]
  },
  {
   "cell_type": "code",
   "execution_count": null,
   "metadata": {},
   "outputs": [],
   "source": [
    "wrong[wrong.schema .== \"fonte.2\", [:piece, :notestring, :pred]]"
   ]
  },
  {
   "cell_type": "code",
   "execution_count": null,
   "metadata": {},
   "outputs": [],
   "source": []
  }
 ],
 "metadata": {
  "@webio": {
   "lastCommId": null,
   "lastKernelId": null
  },
  "kernelspec": {
   "display_name": "Julia 1.4.1",
   "language": "julia",
   "name": "julia-1.4"
  },
  "language_info": {
   "file_extension": ".jl",
   "mimetype": "application/julia",
   "name": "julia",
   "version": "1.4.1"
  }
 },
 "nbformat": 4,
 "nbformat_minor": 2
}
